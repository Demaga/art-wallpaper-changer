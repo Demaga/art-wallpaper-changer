{
 "cells": [
  {
   "cell_type": "code",
   "execution_count": 1,
   "metadata": {},
   "outputs": [],
   "source": [
    "import polars as pl"
   ]
  },
  {
   "cell_type": "code",
   "execution_count": 2,
   "metadata": {},
   "outputs": [
    {
     "name": "stdout",
     "output_type": "stream",
     "text": [
      "Rows: 484956\n",
      "Columns: 54\n",
      "$ Object Number            <str> '1979.486.1', '1980.264.5', '67.265.9', '67.265.10', '67.265.11', '67.265.12', '67.265.13', '67.265.14', '67.265.15', '1979.486.3'\n",
      "$ Is Highlight            <bool> False, False, False, False, False, False, False, False, False, False\n",
      "$ Is Timeline Work        <bool> False, False, False, False, False, False, False, False, False, False\n",
      "$ Is Public Domain        <bool> False, False, False, False, False, False, False, False, False, False\n",
      "$ Object ID                <i64> 1, 2, 3, 4, 5, 6, 7, 8, 9, 10\n",
      "$ Gallery Number           <i64> None, None, None, None, None, None, None, None, None, None\n",
      "$ Department               <str> 'The American Wing', 'The American Wing', 'The American Wing', 'The American Wing', 'The American Wing', 'The American Wing', 'The American Wing', 'The American Wing', 'The American Wing', 'The American Wing'\n",
      "$ AccessionYear            <i64> 1979, 1980, 1967, 1967, 1967, 1967, 1967, 1967, 1967, 1979\n",
      "$ Object Name              <str> 'Coin', 'Coin', 'Coin', 'Coin', 'Coin', 'Coin', 'Coin', 'Coin', 'Coin', 'Coin'\n",
      "$ Title                    <str> 'One-dollar Liberty Head Coin', 'Ten-dollar Liberty Head Coin', 'Two-and-a-Half Dollar Coin', 'Two-and-a-Half Dollar Coin', 'Two-and-a-Half Dollar Coin', 'Two-and-a-Half Dollar Coin', 'Two-and-a-Half Dollar Coin', 'Two-and-a-Half Dollar Coin', 'Two-and-a-Half Dollar Coin', 'Two-and-a-half-dollar Indian Head Coin'\n",
      "$ Culture                  <str> None, None, None, None, None, None, None, None, None, None\n",
      "$ Period                   <str> None, None, None, None, None, None, None, None, None, None\n",
      "$ Dynasty                  <str> None, None, None, None, None, None, None, None, None, None\n",
      "$ Reign                    <str> None, None, None, None, None, None, None, None, None, None\n",
      "$ Portfolio                <str> None, None, None, None, None, None, None, None, None, None\n",
      "$ Constituent ID           <i64> 16429, 107, None, None, None, None, None, None, None, 108\n",
      "$ Artist Role              <str> 'Maker', 'Maker', None, None, None, None, None, None, None, 'Maker'\n",
      "$ Artist Prefix            <str> ' ', ' ', None, None, None, None, None, None, None, ' '\n",
      "$ Artist Display Name      <str> 'James Barton Longacre', 'Christian Gobrecht', None, None, None, None, None, None, None, 'Bela Lyon Pratt'\n",
      "$ Artist Display Bio       <str> 'American, Delaware County, Pennsylvania 1794–1869 Philadelphia, Pennsylvania', '1785–1844', None, None, None, None, None, None, None, '1867–1917'\n",
      "$ Artist Suffix            <str> ' ', ' ', None, None, None, None, None, None, None, ' '\n",
      "$ Artist Alpha Sort        <str> 'Longacre, James Barton', 'Gobrecht, Christian', None, None, None, None, None, None, None, 'Pratt, Bela Lyon'\n",
      "$ Artist Nationality       <str> 'American', 'American', None, None, None, None, None, None, None, 'American'\n",
      "$ Artist Begin Date        <str> '1794      ', '1785      ', None, None, None, None, None, None, None, '1867      '\n",
      "$ Artist End Date          <str> '1869      ', '1844      ', None, None, None, None, None, None, None, '1917      '\n",
      "$ Artist Gender            <str> None, None, None, None, None, None, None, None, None, None\n",
      "$ Artist ULAN URL          <str> 'http://vocab.getty.edu/page/ulan/500011409', 'http://vocab.getty.edu/page/ulan/500077295', None, None, None, None, None, None, None, 'http://vocab.getty.edu/page/ulan/500095555'\n",
      "$ Artist Wikidata URL      <str> 'https://www.wikidata.org/wiki/Q3806459', 'https://www.wikidata.org/wiki/Q5109648', None, None, None, None, None, None, None, 'https://www.wikidata.org/wiki/Q4881787'\n",
      "$ Object Date              <str> '1853', '1901', '1909–27', '1909–27', '1909–27', '1909–27', '1909–27', '1909–27', '1909–27', '1912'\n",
      "$ Object Begin Date        <i64> 1853, 1901, 1909, 1909, 1909, 1909, 1909, 1909, 1909, 1912\n",
      "$ Object End Date          <i64> 1853, 1901, 1927, 1927, 1927, 1927, 1927, 1927, 1927, 1912\n",
      "$ Medium                   <str> 'Gold', 'Gold', 'Gold', 'Gold', 'Gold', 'Gold', 'Gold', 'Gold', 'Gold', 'Gold'\n",
      "$ Dimensions               <str> 'Dimensions unavailable', 'Dimensions unavailable', 'Diam. 11/16 in. (1.7 cm)', 'Diam. 11/16 in. (1.7 cm)', 'Diam. 11/16 in. (1.7 cm)', 'Diam. 11/16 in. (1.7 cm)', 'Diam. 11/16 in. (1.7 cm)', 'Diam. 11/16 in. (1.7 cm)', 'Diam. 11/16 in. (1.7 cm)', 'Dimensions unavailable'\n",
      "$ Credit Line              <str> 'Gift of Heinz L. Stoppelmann, 1979', 'Gift of Heinz L. Stoppelmann, 1980', 'Gift of C. Ruxton Love Jr., 1967', 'Gift of C. Ruxton Love Jr., 1967', 'Gift of C. Ruxton Love Jr., 1967', 'Gift of C. Ruxton Love Jr., 1967', 'Gift of C. Ruxton Love Jr., 1967', 'Gift of C. Ruxton Love Jr., 1967', 'Gift of C. Ruxton Love Jr., 1967', 'Gift of Heinz L. Stoppelmann, 1979'\n",
      "$ Geography Type           <str> None, None, None, None, None, None, None, None, None, None\n",
      "$ City                     <str> None, None, None, None, None, None, None, None, None, None\n",
      "$ State                    <str> None, None, None, None, None, None, None, None, None, None\n",
      "$ County                   <str> None, None, None, None, None, None, None, None, None, None\n",
      "$ Country                  <str> None, None, None, None, None, None, None, None, None, None\n",
      "$ Region                   <str> None, None, None, None, None, None, None, None, None, None\n",
      "$ Subregion                <str> None, None, None, None, None, None, None, None, None, None\n",
      "$ Locale                   <str> None, None, None, None, None, None, None, None, None, None\n",
      "$ Locus                    <str> None, None, None, None, None, None, None, None, None, None\n",
      "$ Excavation               <str> None, None, None, None, None, None, None, None, None, None\n",
      "$ River                    <str> None, None, None, None, None, None, None, None, None, None\n",
      "$ Classification           <str> None, None, None, None, None, None, None, None, None, None\n",
      "$ Rights and Reproduction  <str> None, None, None, None, None, None, None, None, None, None\n",
      "$ Link Resource            <str> 'http://www.metmuseum.org/art/collection/search/1', 'http://www.metmuseum.org/art/collection/search/2', 'http://www.metmuseum.org/art/collection/search/3', 'http://www.metmuseum.org/art/collection/search/4', 'http://www.metmuseum.org/art/collection/search/5', 'http://www.metmuseum.org/art/collection/search/6', 'http://www.metmuseum.org/art/collection/search/7', 'http://www.metmuseum.org/art/collection/search/8', 'http://www.metmuseum.org/art/collection/search/9', 'http://www.metmuseum.org/art/collection/search/10'\n",
      "$ Object Wikidata URL      <str> None, None, None, None, None, None, None, None, None, None\n",
      "$ Metadata Date            <str> None, None, None, None, None, None, None, None, None, None\n",
      "$ Repository               <str> 'Metropolitan Museum of Art, New York, NY', 'Metropolitan Museum of Art, New York, NY', 'Metropolitan Museum of Art, New York, NY', 'Metropolitan Museum of Art, New York, NY', 'Metropolitan Museum of Art, New York, NY', 'Metropolitan Museum of Art, New York, NY', 'Metropolitan Museum of Art, New York, NY', 'Metropolitan Museum of Art, New York, NY', 'Metropolitan Museum of Art, New York, NY', 'Metropolitan Museum of Art, New York, NY'\n",
      "$ Tags                     <str> None, None, None, None, None, None, 'Birds|Coins', 'Eagles|Men|Profiles', None, None\n",
      "$ Tags AAT URL             <str> None, None, None, None, None, None, 'http://vocab.getty.edu/page/aat/300266506|http://vocab.getty.edu/page/aat/300037222', 'http://vocab.getty.edu/page/aat/300250049|http://vocab.getty.edu/page/aat/300025928|http://vocab.getty.edu/page/aat/300123319', None, None\n",
      "$ Tags Wikidata URL        <str> None, None, None, None, None, None, 'https://www.wikidata.org/wiki/Q5113|https://www.wikidata.org/wiki/Q41207', 'https://www.wikidata.org/wiki/Q2092297|https://www.wikidata.org/wiki/Q8441|https://www.wikidata.org/wiki/Q4382010', None, None\n",
      "\n"
     ]
    }
   ],
   "source": [
    "df = pl.read_csv(\"MetObjects.txt\", ignore_errors=True)\n",
    "df.glimpse()"
   ]
  },
  {
   "cell_type": "code",
   "execution_count": 3,
   "metadata": {},
   "outputs": [
    {
     "data": {
      "text/html": [
       "<div><style>\n",
       ".dataframe > thead > tr,\n",
       ".dataframe > tbody > tr {\n",
       "  text-align: right;\n",
       "  white-space: pre-wrap;\n",
       "}\n",
       "</style>\n",
       "<small>shape: (2, 1)</small><table border=\"1\" class=\"dataframe\"><thead><tr><th>blob_path</th></tr><tr><td>str</td></tr></thead><tbody><tr><td>&quot;100/0.jpg&quot;</td></tr><tr><td>&quot;1000/0.jpg&quot;</td></tr></tbody></table></div>"
      ],
      "text/plain": [
       "shape: (2, 1)\n",
       "┌────────────┐\n",
       "│ blob_path  │\n",
       "│ ---        │\n",
       "│ str        │\n",
       "╞════════════╡\n",
       "│ 100/0.jpg  │\n",
       "│ 1000/0.jpg │\n",
       "└────────────┘"
      ]
     },
     "execution_count": 3,
     "metadata": {},
     "output_type": "execute_result"
    }
   ],
   "source": [
    "available_images = pl.read_csv(\"available_images.csv\")\n",
    "available_images.head(2)"
   ]
  },
  {
   "cell_type": "code",
   "execution_count": 4,
   "metadata": {},
   "outputs": [
    {
     "data": {
      "text/html": [
       "<div><style>\n",
       ".dataframe > thead > tr,\n",
       ".dataframe > tbody > tr {\n",
       "  text-align: right;\n",
       "  white-space: pre-wrap;\n",
       "}\n",
       "</style>\n",
       "<small>shape: (5, 2)</small><table border=\"1\" class=\"dataframe\"><thead><tr><th>blob_path</th><th>object_id</th></tr><tr><td>str</td><td>i64</td></tr></thead><tbody><tr><td>&quot;100/0.jpg&quot;</td><td>100</td></tr><tr><td>&quot;1000/0.jpg&quot;</td><td>1000</td></tr><tr><td>&quot;10000/0.jpg&quot;</td><td>10000</td></tr><tr><td>&quot;10001/0.jpg&quot;</td><td>10001</td></tr><tr><td>&quot;100015/0.jpg&quot;</td><td>100015</td></tr></tbody></table></div>"
      ],
      "text/plain": [
       "shape: (5, 2)\n",
       "┌──────────────┬───────────┐\n",
       "│ blob_path    ┆ object_id │\n",
       "│ ---          ┆ ---       │\n",
       "│ str          ┆ i64       │\n",
       "╞══════════════╪═══════════╡\n",
       "│ 100/0.jpg    ┆ 100       │\n",
       "│ 1000/0.jpg   ┆ 1000      │\n",
       "│ 10000/0.jpg  ┆ 10000     │\n",
       "│ 10001/0.jpg  ┆ 10001     │\n",
       "│ 100015/0.jpg ┆ 100015    │\n",
       "└──────────────┴───────────┘"
      ]
     },
     "execution_count": 4,
     "metadata": {},
     "output_type": "execute_result"
    }
   ],
   "source": [
    "available_images = available_images.with_columns(\n",
    "    object_id=pl.col(\"blob_path\").str.split(\"/\").list.first().cast(int)\n",
    ")\n",
    "available_images.head()"
   ]
  },
  {
   "cell_type": "code",
   "execution_count": 5,
   "metadata": {},
   "outputs": [
    {
     "data": {
      "text/html": [
       "<div><style>\n",
       ".dataframe > thead > tr,\n",
       ".dataframe > tbody > tr {\n",
       "  text-align: right;\n",
       "  white-space: pre-wrap;\n",
       "}\n",
       "</style>\n",
       "<small>shape: (2, 55)</small><table border=\"1\" class=\"dataframe\"><thead><tr><th>Object Number</th><th>Is Highlight</th><th>Is Timeline Work</th><th>Is Public Domain</th><th>Object ID</th><th>Gallery Number</th><th>Department</th><th>AccessionYear</th><th>Object Name</th><th>Title</th><th>Culture</th><th>Period</th><th>Dynasty</th><th>Reign</th><th>Portfolio</th><th>Constituent ID</th><th>Artist Role</th><th>Artist Prefix</th><th>Artist Display Name</th><th>Artist Display Bio</th><th>Artist Suffix</th><th>Artist Alpha Sort</th><th>Artist Nationality</th><th>Artist Begin Date</th><th>Artist End Date</th><th>Artist Gender</th><th>Artist ULAN URL</th><th>Artist Wikidata URL</th><th>Object Date</th><th>Object Begin Date</th><th>Object End Date</th><th>Medium</th><th>Dimensions</th><th>Credit Line</th><th>Geography Type</th><th>City</th><th>State</th><th>County</th><th>Country</th><th>Region</th><th>Subregion</th><th>Locale</th><th>Locus</th><th>Excavation</th><th>River</th><th>Classification</th><th>Rights and Reproduction</th><th>Link Resource</th><th>Object Wikidata URL</th><th>Metadata Date</th><th>Repository</th><th>Tags</th><th>Tags AAT URL</th><th>Tags Wikidata URL</th><th>blob_path</th></tr><tr><td>str</td><td>bool</td><td>bool</td><td>bool</td><td>i64</td><td>i64</td><td>str</td><td>i64</td><td>str</td><td>str</td><td>str</td><td>str</td><td>str</td><td>str</td><td>str</td><td>i64</td><td>str</td><td>str</td><td>str</td><td>str</td><td>str</td><td>str</td><td>str</td><td>str</td><td>str</td><td>str</td><td>str</td><td>str</td><td>str</td><td>i64</td><td>i64</td><td>str</td><td>str</td><td>str</td><td>str</td><td>str</td><td>str</td><td>str</td><td>str</td><td>str</td><td>str</td><td>str</td><td>str</td><td>str</td><td>str</td><td>str</td><td>str</td><td>str</td><td>str</td><td>str</td><td>str</td><td>str</td><td>str</td><td>str</td><td>str</td></tr></thead><tbody><tr><td>&quot;64.62&quot;</td><td>false</td><td>false</td><td>false</td><td>33</td><td>774</td><td>&quot;The American Wing&quot;</td><td>1964</td><td>&quot;Bust&quot;</td><td>&quot;Bust of Abraham Lincoln&quot;</td><td>&quot;American&quot;</td><td>null</td><td>null</td><td>null</td><td>null</td><td>16459</td><td>&quot;Maker&quot;</td><td>&quot; &quot;</td><td>&quot;James Gillinder and Sons&quot;</td><td>&quot;American, 1861–ca. 1930&quot;</td><td>&quot; &quot;</td><td>&quot;Gillinder and Sons, James&quot;</td><td>&quot;American&quot;</td><td>&quot;1861&nbsp;&nbsp;&nbsp;&nbsp;&nbsp;&nbsp;&quot;</td><td>&quot;1930&nbsp;&nbsp;&nbsp;&nbsp;&nbsp;&nbsp;&quot;</td><td>null</td><td>&quot;http://vocab.getty.edu/page/ul…</td><td>&quot;https://www.wikidata.org/wiki/…</td><td>&quot;1876&quot;</td><td>1876</td><td>1876</td><td>&quot;Pressed glass&quot;</td><td>&quot;2 3/4 x 3 1/2 x 2 3/4 in. (7 x…</td><td>&quot;Gift of Teunis G. B. Cortelyou…</td><td>&quot;Made in&quot;</td><td>&quot;Philadelphia&quot;</td><td>null</td><td>null</td><td>&quot;United States&quot;</td><td>null</td><td>null</td><td>null</td><td>null</td><td>null</td><td>null</td><td>null</td><td>null</td><td>&quot;http://www.metmuseum.org/art/c…</td><td>&quot;https://www.wikidata.org/wiki/…</td><td>null</td><td>&quot;Metropolitan Museum of Art, Ne…</td><td>&quot;Men|Abraham Lincoln|Portraits&quot;</td><td>&quot;http://vocab.getty.edu/page/aa…</td><td>&quot;https://www.wikidata.org/wiki/…</td><td>&quot;33/0.jpg&quot;</td></tr><tr><td>&quot;1970.289.6&quot;</td><td>false</td><td>false</td><td>true</td><td>34</td><td>774</td><td>&quot;The American Wing&quot;</td><td>1970</td><td>&quot;Clock&quot;</td><td>&quot;Acorn Clock&quot;</td><td>&quot;American&quot;</td><td>null</td><td>null</td><td>null</td><td>null</td><td>108</td><td>&quot;Maker&quot;</td><td>&quot; &quot;</td><td>&quot;Forestville Manufacturing Comp…</td><td>&quot;1835–1853&quot;</td><td>&quot; &quot;</td><td>&quot;Forestville Manufacturing Comp…</td><td>&quot;American&quot;</td><td>&quot;1835&nbsp;&nbsp;&nbsp;&nbsp;&nbsp;&nbsp;&quot;</td><td>&quot;1853&nbsp;&nbsp;&nbsp;&nbsp;&nbsp;&nbsp;&quot;</td><td>null</td><td>null</td><td>null</td><td>&quot;1847–50&quot;</td><td>1847</td><td>1850</td><td>&quot;Mahogany, laminated&quot;</td><td>&quot;24 3/8 x 14 5/8 x 5 1/8 in. (6…</td><td>&quot;Gift of Mrs. Paul Moore, 1970&quot;</td><td>&quot;Made in&quot;</td><td>&quot;Bristol&quot;</td><td>null</td><td>null</td><td>&quot;United States&quot;</td><td>null</td><td>null</td><td>null</td><td>null</td><td>null</td><td>null</td><td>null</td><td>null</td><td>&quot;http://www.metmuseum.org/art/c…</td><td>&quot;https://www.wikidata.org/wiki/…</td><td>null</td><td>&quot;Metropolitan Museum of Art, Ne…</td><td>&quot;Landscapes|Boats&quot;</td><td>&quot;http://vocab.getty.edu/page/aa…</td><td>&quot;https://www.wikidata.org/wiki/…</td><td>&quot;34/0.jpg&quot;</td></tr></tbody></table></div>"
      ],
      "text/plain": [
       "shape: (2, 55)\n",
       "┌───────────┬───────────┬───────────┬───────────┬───┬───────────┬───────────┬───────────┬──────────┐\n",
       "│ Object    ┆ Is        ┆ Is        ┆ Is Public ┆ … ┆ Tags      ┆ Tags AAT  ┆ Tags      ┆ blob_pat │\n",
       "│ Number    ┆ Highlight ┆ Timeline  ┆ Domain    ┆   ┆ ---       ┆ URL       ┆ Wikidata  ┆ h        │\n",
       "│ ---       ┆ ---       ┆ Work      ┆ ---       ┆   ┆ str       ┆ ---       ┆ URL       ┆ ---      │\n",
       "│ str       ┆ bool      ┆ ---       ┆ bool      ┆   ┆           ┆ str       ┆ ---       ┆ str      │\n",
       "│           ┆           ┆ bool      ┆           ┆   ┆           ┆           ┆ str       ┆          │\n",
       "╞═══════════╪═══════════╪═══════════╪═══════════╪═══╪═══════════╪═══════════╪═══════════╪══════════╡\n",
       "│ 64.62     ┆ false     ┆ false     ┆ false     ┆ … ┆ Men|Abrah ┆ http://vo ┆ https://w ┆ 33/0.jpg │\n",
       "│           ┆           ┆           ┆           ┆   ┆ am Lincol ┆ cab.getty ┆ ww.wikida ┆          │\n",
       "│           ┆           ┆           ┆           ┆   ┆ n|Portrai ┆ .edu/page ┆ ta.org/wi ┆          │\n",
       "│           ┆           ┆           ┆           ┆   ┆ ts        ┆ /aa…      ┆ ki/…      ┆          │\n",
       "│ 1970.289. ┆ false     ┆ false     ┆ true      ┆ … ┆ Landscape ┆ http://vo ┆ https://w ┆ 34/0.jpg │\n",
       "│ 6         ┆           ┆           ┆           ┆   ┆ s|Boats   ┆ cab.getty ┆ ww.wikida ┆          │\n",
       "│           ┆           ┆           ┆           ┆   ┆           ┆ .edu/page ┆ ta.org/wi ┆          │\n",
       "│           ┆           ┆           ┆           ┆   ┆           ┆ /aa…      ┆ ki/…      ┆          │\n",
       "└───────────┴───────────┴───────────┴───────────┴───┴───────────┴───────────┴───────────┴──────────┘"
      ]
     },
     "execution_count": 5,
     "metadata": {},
     "output_type": "execute_result"
    }
   ],
   "source": [
    "df = df.join(\n",
    "    available_images,\n",
    "    left_on=\"Object ID\",\n",
    "    right_on=\"object_id\",\n",
    "    how=\"left\"\n",
    ").filter(\n",
    "    pl.col(\"blob_path\").is_not_null()\n",
    ")\n",
    "df.head(2)"
   ]
  },
  {
   "cell_type": "code",
   "execution_count": 6,
   "metadata": {},
   "outputs": [
    {
     "name": "stdout",
     "output_type": "stream",
     "text": [
      "Downloaded public blob 34/0.jpg from bucket gcs-public-data--met to test.jpg.\n"
     ]
    }
   ],
   "source": [
    "# test that images correspond with descriptions\n",
    "from google.cloud import storage\n",
    "def download_public_file(bucket_name, source_blob_name, destination_file_name):\n",
    "    storage_client = storage.Client.create_anonymous_client()\n",
    "    bucket = storage_client.bucket(bucket_name)\n",
    "    blob = bucket.blob(source_blob_name)\n",
    "    blob.download_to_filename(destination_file_name)\n",
    "    print(\n",
    "        \"Downloaded public blob {} from bucket {} to {}.\".format(\n",
    "            source_blob_name, bucket.name, destination_file_name\n",
    "        )\n",
    "    )\n",
    "download_public_file(\"gcs-public-data--met\", \"34/0.jpg\", \"test.jpg\")"
   ]
  },
  {
   "cell_type": "code",
   "execution_count": 7,
   "metadata": {},
   "outputs": [
    {
     "name": "stdout",
     "output_type": "stream",
     "text": [
      "Rows: 19\n",
      "Columns: 1\n",
      "$ Department <str> 'Greek and Roman Art', 'European Sculpture and Decorative Arts', 'Egyptian Art', 'Islamic Art', 'European Paintings', 'The American Wing', 'The Cloisters', 'Modern and Contemporary Art', 'Asian Art', 'Drawings and Prints'\n",
      "\n"
     ]
    }
   ],
   "source": [
    "df[[\"Department\"]].unique().glimpse()"
   ]
  },
  {
   "cell_type": "code",
   "execution_count": 8,
   "metadata": {},
   "outputs": [
    {
     "data": {
      "text/html": [
       "<div><style>\n",
       ".dataframe > thead > tr,\n",
       ".dataframe > tbody > tr {\n",
       "  text-align: right;\n",
       "  white-space: pre-wrap;\n",
       "}\n",
       "</style>\n",
       "<small>shape: (19, 2)</small><table border=\"1\" class=\"dataframe\"><thead><tr><th>Department</th><th>count</th></tr><tr><td>str</td><td>u32</td></tr></thead><tbody><tr><td>&quot;Asian Art&quot;</td><td>67439</td></tr><tr><td>&quot;Drawings and Prints&quot;</td><td>60438</td></tr><tr><td>&quot;European Sculpture and Decorat…</td><td>57327</td></tr><tr><td>&quot;The American Wing&quot;</td><td>27299</td></tr><tr><td>&quot;Islamic Art&quot;</td><td>25862</td></tr><tr><td>&quot;Egyptian Art&quot;</td><td>23793</td></tr><tr><td>&quot;Costume Institute&quot;</td><td>20547</td></tr><tr><td>&quot;Medieval Art&quot;</td><td>19506</td></tr><tr><td>&quot;Greek and Roman Art&quot;</td><td>18308</td></tr><tr><td>&quot;Photographs&quot;</td><td>13624</td></tr><tr><td>&quot;Arms and Armor&quot;</td><td>11476</td></tr><tr><td>&quot;Arts of Africa, Oceania, and t…</td><td>7114</td></tr><tr><td>&quot;Ancient Near Eastern Art&quot;</td><td>6379</td></tr><tr><td>&quot;The Cloisters&quot;</td><td>6205</td></tr><tr><td>&quot;Robert Lehman Collection&quot;</td><td>5157</td></tr><tr><td>&quot;European Paintings&quot;</td><td>2894</td></tr><tr><td>&quot;Musical Instruments&quot;</td><td>2463</td></tr><tr><td>&quot;Modern and Contemporary Art&quot;</td><td>1444</td></tr><tr><td>&quot;The Libraries&quot;</td><td>509</td></tr></tbody></table></div>"
      ],
      "text/plain": [
       "shape: (19, 2)\n",
       "┌─────────────────────────────────┬───────┐\n",
       "│ Department                      ┆ count │\n",
       "│ ---                             ┆ ---   │\n",
       "│ str                             ┆ u32   │\n",
       "╞═════════════════════════════════╪═══════╡\n",
       "│ Asian Art                       ┆ 67439 │\n",
       "│ Drawings and Prints             ┆ 60438 │\n",
       "│ European Sculpture and Decorat… ┆ 57327 │\n",
       "│ The American Wing               ┆ 27299 │\n",
       "│ Islamic Art                     ┆ 25862 │\n",
       "│ Egyptian Art                    ┆ 23793 │\n",
       "│ Costume Institute               ┆ 20547 │\n",
       "│ Medieval Art                    ┆ 19506 │\n",
       "│ Greek and Roman Art             ┆ 18308 │\n",
       "│ Photographs                     ┆ 13624 │\n",
       "│ Arms and Armor                  ┆ 11476 │\n",
       "│ Arts of Africa, Oceania, and t… ┆ 7114  │\n",
       "│ Ancient Near Eastern Art        ┆ 6379  │\n",
       "│ The Cloisters                   ┆ 6205  │\n",
       "│ Robert Lehman Collection        ┆ 5157  │\n",
       "│ European Paintings              ┆ 2894  │\n",
       "│ Musical Instruments             ┆ 2463  │\n",
       "│ Modern and Contemporary Art     ┆ 1444  │\n",
       "│ The Libraries                   ┆ 509   │\n",
       "└─────────────────────────────────┴───────┘"
      ]
     },
     "execution_count": 8,
     "metadata": {},
     "output_type": "execute_result"
    }
   ],
   "source": [
    "pl.Config.set_tbl_rows(20)\n",
    "df[\"Department\"].value_counts(sort=True)"
   ]
  },
  {
   "cell_type": "code",
   "execution_count": 9,
   "metadata": {},
   "outputs": [],
   "source": [
    "# Filter out non-painting arts\n",
    "# decided to not filter anything for now\n",
    "# df = df.filter(\n",
    "#     ~pl.col(\"Department\").is_in([\"European Sculpture and Decorative Arts\", \"Costume Institute\", \"Photographs\", \"Arms and Armor\", \"The Cloisters\", \"Musical Instruments\", \"The Libraries\"])\n",
    "# )"
   ]
  },
  {
   "cell_type": "code",
   "execution_count": 10,
   "metadata": {},
   "outputs": [
    {
     "data": {
      "text/plain": [
       "(377784, 55)"
      ]
     },
     "execution_count": 10,
     "metadata": {},
     "output_type": "execute_result"
    }
   ],
   "source": [
    "df.shape"
   ]
  },
  {
   "cell_type": "code",
   "execution_count": 13,
   "metadata": {},
   "outputs": [
    {
     "data": {
      "text/html": [
       "<div><style>\n",
       ".dataframe > thead > tr,\n",
       ".dataframe > tbody > tr {\n",
       "  text-align: right;\n",
       "  white-space: pre-wrap;\n",
       "}\n",
       "</style>\n",
       "<small>shape: (1, 55)</small><table border=\"1\" class=\"dataframe\"><thead><tr><th>object_number</th><th>is_highlight</th><th>is_timeline_work</th><th>is_public_domain</th><th>object_id</th><th>gallery_number</th><th>department</th><th>accessionyear</th><th>object_name</th><th>title</th><th>culture</th><th>period</th><th>dynasty</th><th>reign</th><th>portfolio</th><th>constituent_id</th><th>artist_role</th><th>artist_prefix</th><th>artist_display_name</th><th>artist_display_bio</th><th>artist_suffix</th><th>artist_alpha_sort</th><th>artist_nationality</th><th>artist_begin_date</th><th>artist_end_date</th><th>artist_gender</th><th>artist_ulan_url</th><th>artist_wikidata_url</th><th>object_date</th><th>object_begin_date</th><th>object_end_date</th><th>medium</th><th>dimensions</th><th>credit_line</th><th>geography_type</th><th>city</th><th>state</th><th>county</th><th>country</th><th>region</th><th>subregion</th><th>locale</th><th>locus</th><th>excavation</th><th>river</th><th>classification</th><th>rights_and_reproduction</th><th>link_resource</th><th>object_wikidata_url</th><th>metadata_date</th><th>repository</th><th>tags</th><th>tags_aat_url</th><th>tags_wikidata_url</th><th>blob_path</th></tr><tr><td>str</td><td>bool</td><td>bool</td><td>bool</td><td>i64</td><td>i64</td><td>str</td><td>i64</td><td>str</td><td>str</td><td>str</td><td>str</td><td>str</td><td>str</td><td>str</td><td>i64</td><td>str</td><td>str</td><td>str</td><td>str</td><td>str</td><td>str</td><td>str</td><td>str</td><td>str</td><td>str</td><td>str</td><td>str</td><td>str</td><td>i64</td><td>i64</td><td>str</td><td>str</td><td>str</td><td>str</td><td>str</td><td>str</td><td>str</td><td>str</td><td>str</td><td>str</td><td>str</td><td>str</td><td>str</td><td>str</td><td>str</td><td>str</td><td>str</td><td>str</td><td>str</td><td>str</td><td>str</td><td>str</td><td>str</td><td>str</td></tr></thead><tbody><tr><td>&quot;64.62&quot;</td><td>false</td><td>false</td><td>false</td><td>33</td><td>774</td><td>&quot;The American Wing&quot;</td><td>1964</td><td>&quot;Bust&quot;</td><td>&quot;Bust of Abraham Lincoln&quot;</td><td>&quot;American&quot;</td><td>null</td><td>null</td><td>null</td><td>null</td><td>16459</td><td>&quot;Maker&quot;</td><td>&quot; &quot;</td><td>&quot;James Gillinder and Sons&quot;</td><td>&quot;American, 1861–ca. 1930&quot;</td><td>&quot; &quot;</td><td>&quot;Gillinder and Sons, James&quot;</td><td>&quot;American&quot;</td><td>&quot;1861&nbsp;&nbsp;&nbsp;&nbsp;&nbsp;&nbsp;&quot;</td><td>&quot;1930&nbsp;&nbsp;&nbsp;&nbsp;&nbsp;&nbsp;&quot;</td><td>null</td><td>&quot;http://vocab.getty.edu/page/ul…</td><td>&quot;https://www.wikidata.org/wiki/…</td><td>&quot;1876&quot;</td><td>1876</td><td>1876</td><td>&quot;Pressed glass&quot;</td><td>&quot;2 3/4 x 3 1/2 x 2 3/4 in. (7 x…</td><td>&quot;Gift of Teunis G. B. Cortelyou…</td><td>&quot;Made in&quot;</td><td>&quot;Philadelphia&quot;</td><td>null</td><td>null</td><td>&quot;United States&quot;</td><td>null</td><td>null</td><td>null</td><td>null</td><td>null</td><td>null</td><td>null</td><td>null</td><td>&quot;http://www.metmuseum.org/art/c…</td><td>&quot;https://www.wikidata.org/wiki/…</td><td>null</td><td>&quot;Metropolitan Museum of Art, Ne…</td><td>&quot;Men|Abraham Lincoln|Portraits&quot;</td><td>&quot;http://vocab.getty.edu/page/aa…</td><td>&quot;https://www.wikidata.org/wiki/…</td><td>&quot;33/0.jpg&quot;</td></tr></tbody></table></div>"
      ],
      "text/plain": [
       "shape: (1, 55)\n",
       "┌───────────┬───────────┬───────────┬───────────┬───┬───────────┬───────────┬───────────┬──────────┐\n",
       "│ object_nu ┆ is_highli ┆ is_timeli ┆ is_public ┆ … ┆ tags      ┆ tags_aat_ ┆ tags_wiki ┆ blob_pat │\n",
       "│ mber      ┆ ght       ┆ ne_work   ┆ _domain   ┆   ┆ ---       ┆ url       ┆ data_url  ┆ h        │\n",
       "│ ---       ┆ ---       ┆ ---       ┆ ---       ┆   ┆ str       ┆ ---       ┆ ---       ┆ ---      │\n",
       "│ str       ┆ bool      ┆ bool      ┆ bool      ┆   ┆           ┆ str       ┆ str       ┆ str      │\n",
       "╞═══════════╪═══════════╪═══════════╪═══════════╪═══╪═══════════╪═══════════╪═══════════╪══════════╡\n",
       "│ 64.62     ┆ false     ┆ false     ┆ false     ┆ … ┆ Men|Abrah ┆ http://vo ┆ https://w ┆ 33/0.jpg │\n",
       "│           ┆           ┆           ┆           ┆   ┆ am Lincol ┆ cab.getty ┆ ww.wikida ┆          │\n",
       "│           ┆           ┆           ┆           ┆   ┆ n|Portrai ┆ .edu/page ┆ ta.org/wi ┆          │\n",
       "│           ┆           ┆           ┆           ┆   ┆ ts        ┆ /aa…      ┆ ki/…      ┆          │\n",
       "└───────────┴───────────┴───────────┴───────────┴───┴───────────┴───────────┴───────────┴──────────┘"
      ]
     },
     "execution_count": 13,
     "metadata": {},
     "output_type": "execute_result"
    }
   ],
   "source": [
    "to_rename = {col: col.lower().replace(\" \", \"_\") for col in df.columns}\n",
    "df = df.rename(\n",
    "    to_rename\n",
    ")\n",
    "df.head(1)"
   ]
  },
  {
   "cell_type": "code",
   "execution_count": 16,
   "metadata": {},
   "outputs": [],
   "source": [
    "df = df[[\"object_id\", \"department\", \"object_name\", \"title\", \"culture\", \n",
    "         \"period\", \"dynasty\", \"reign\", \"portfolio\", \"artist_role\",\n",
    "         \"artist_display_name\", \"artist_display_bio\", \"artist_nationality\",\n",
    "         \"artist_begin_date\", \"artist_end_date\", \"artist_gender\",\n",
    "         \"object_date\", \"medium\", \"dimensions\", \"geography_type\", \"city\", \"state\", \"country\", \"region\",\n",
    "         \"blob_path\"]]"
   ]
  },
  {
   "cell_type": "code",
   "execution_count": 17,
   "metadata": {},
   "outputs": [],
   "source": [
    "df.write_ndjson(\"met_objects.json\")"
   ]
  }
 ],
 "metadata": {
  "kernelspec": {
   "display_name": ".ve",
   "language": "python",
   "name": "python3"
  },
  "language_info": {
   "codemirror_mode": {
    "name": "ipython",
    "version": 3
   },
   "file_extension": ".py",
   "mimetype": "text/x-python",
   "name": "python",
   "nbconvert_exporter": "python",
   "pygments_lexer": "ipython3",
   "version": "3.13.0"
  }
 },
 "nbformat": 4,
 "nbformat_minor": 2
}
